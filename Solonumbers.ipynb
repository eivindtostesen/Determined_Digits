{
 "cells": [
  {
   "cell_type": "markdown",
   "metadata": {},
   "source": [
    "# Numeric type: DeterminedDigits\n",
    "Here I am experimenting with a new numeric type in Python, to represent real numbers with so called determined digits.\n",
    "\n",
    "What makes digits Determined Digits? Well, they live by ten rules of thumb:\n",
    "1. Digits are fully determined bounds of a number.\n",
    "2. Digits are not included unless they are correct.\n",
    "3. Digits are best at representing knowledge.\n",
    "4. Digits are not suited to representing uncertainty.\n",
    "5. Digits catch a number by building fences.\n",
    "6. Digits are not aiming like an arrow at a number.\n",
    "7. Digits keep the known inside and the unknown outside.\n",
    "8. Digits always invite new knowledge.\n",
    "9. Digits can be determined one by one and simply appended.\n",
    "10. Digits can be removed by truncating, but not by rounding.\n",
    "\n",
    "Dig this:\n"
   ]
  },
  {
   "cell_type": "code",
   "execution_count": 292,
   "metadata": {},
   "outputs": [],
   "source": [
    "import math"
   ]
  },
  {
   "cell_type": "markdown",
   "metadata": {},
   "source": [
    "Here is an exact number with known digits: 299792.458.\n",
    "\n",
    "Digits beyond that are false:"
   ]
  },
  {
   "cell_type": "code",
   "execution_count": 273,
   "metadata": {},
   "outputs": [
    {
     "data": {
      "text/plain": [
       "Decimal('299792.457999999984167516231536865234375')"
      ]
     },
     "execution_count": 273,
     "metadata": {},
     "output_type": "execute_result"
    }
   ],
   "source": [
    "import decimal\n",
    "x=decimal.Decimal(299792.458)\n",
    "x"
   ]
  },
  {
   "cell_type": "markdown",
   "metadata": {},
   "source": [
    "How can we avoid false digits? It's easiest to start with defining a new class from scratch:"
   ]
  },
  {
   "cell_type": "code",
   "execution_count": 302,
   "metadata": {},
   "outputs": [],
   "source": [
    "class DeterminedDigits():\n",
    "\n",
    "    def __init__(self, is_negative = False, digitstring = \"0\", exponent = 0):\n",
    "        self.is_negative = is_negative\n",
    "        self.digitstring = digitstring\n",
    "        self.exponent = exponent\n",
    "        \n",
    "    def __repr__(self):\n",
    "        return f\"DeterminedDigits(is_negative = {self.is_negative}, digitstring = '{self.digitstring}', exponent = {self.exponent})\"\n",
    "        \n",
    "    def as_float(self):\n",
    "        x = int(self.digitstring)\n",
    "        x *= 10**self.exponent\n",
    "        if self.is_negative:\n",
    "            x *= -1\n",
    "        return x\n",
    "        \n",
    "    def append(self, string):\n",
    "        string = str(string)\n",
    "        self.digitstring += string\n",
    "        self.exponent -= len(string)\n",
    "        \n",
    "    def truncate(self, number):\n",
    "        self.digitstring = self.digitstring[:-number]\n",
    "        self.exponent += number\n"
   ]
  },
  {
   "cell_type": "markdown",
   "metadata": {},
   "source": [
    "Let's make our number 299792.458 an instance of DeterminedDigits. It is specified by keyword arguments:"
   ]
  },
  {
   "cell_type": "code",
   "execution_count": 303,
   "metadata": {},
   "outputs": [
    {
     "name": "stdout",
     "output_type": "stream",
     "text": [
      "DeterminedDigits(is_negative = False, digitstring = '299792458', exponent = -3)\n",
      "299792.458\n"
     ]
    }
   ],
   "source": [
    "c = DeterminedDigits(digitstring = \"299792458\", is_negative = False, exponent = -3)\n",
    "\n",
    "print(c)\n",
    "print(c.as_float())"
   ]
  },
  {
   "cell_type": "markdown",
   "metadata": {},
   "source": [
    "It has basic methods for appending digits and removing (truncate):"
   ]
  },
  {
   "cell_type": "code",
   "execution_count": 305,
   "metadata": {},
   "outputs": [
    {
     "name": "stdout",
     "output_type": "stream",
     "text": [
      "299792.458123 DeterminedDigits(is_negative = False, digitstring = '299792458123', exponent = -6)\n"
     ]
    }
   ],
   "source": [
    "c.append(\"123\")\n",
    "print(c.as_float(), c)"
   ]
  },
  {
   "cell_type": "code",
   "execution_count": 306,
   "metadata": {},
   "outputs": [
    {
     "name": "stdout",
     "output_type": "stream",
     "text": [
      "299792.458 DeterminedDigits(is_negative = False, digitstring = '299792458', exponent = -3)\n"
     ]
    }
   ],
   "source": [
    "c.truncate(3)\n",
    "print(c.as_float(), c)"
   ]
  },
  {
   "cell_type": "markdown",
   "metadata": {},
   "source": [
    "Let's add an interesting method that can find new digits (if they exist), by doing binary search adapted to decimals. The new method also has a helper method:"
   ]
  },
  {
   "cell_type": "code",
   "execution_count": 308,
   "metadata": {},
   "outputs": [],
   "source": [
    "class DeterminedDigits():\n",
    "\n",
    "    def __init__(self, is_negative = False, digitstring = \"0\", exponent = 0):\n",
    "        self.is_negative = is_negative\n",
    "        self.digitstring = digitstring\n",
    "        self.exponent = exponent\n",
    "        \n",
    "    def __repr__(self):\n",
    "        return f\"DeterminedDigits(is_negative = {self.is_negative}, digitstring = '{self.digitstring}', exponent = {self.exponent})\"\n",
    "        \n",
    "    def as_float(self):\n",
    "        x = int(self.digitstring)\n",
    "        x *= 10**self.exponent\n",
    "        if self.is_negative:\n",
    "            x *= -1\n",
    "        return x\n",
    "        \n",
    "    def append(self, string):\n",
    "        string = str(string)\n",
    "        self.digitstring += string\n",
    "        self.exponent -= len(string)\n",
    "        \n",
    "    def truncate(self, number):\n",
    "        self.digitstring = self.digitstring[:-number]\n",
    "        self.exponent += number\n",
    "        \n",
    "    # a temporary method for adding a digit:\n",
    "    def add(self, digit):\n",
    "        x = int(self.digitstring + str(digit))\n",
    "        x *= 10**(self.exponent - 1)\n",
    "        if self.is_negative:\n",
    "            x *= -1\n",
    "        return x\n",
    "                \n",
    "    def nextdigit(self, binarytest):\n",
    "        tree = (((0,1,1),2,(2,3,(3,4,4))),5,((5,6,6),7,(7,8,(8,9,9))))\n",
    "        while (isinstance(tree , tuple)):\n",
    "            tree = tree[0] if binarytest(self.add(tree[1])) else tree[2]\n",
    "        return tree\n",
    "        "
   ]
  },
  {
   "cell_type": "markdown",
   "metadata": {},
   "source": [
    "## 3.141592653589793238462643383279502884197169399\n",
    "Let us try to determine the digits of pi. We know that pi is between 0 and 10, so we initialize pi with exponent = 1 (as \"zero tens\")."
   ]
  },
  {
   "cell_type": "code",
   "execution_count": 312,
   "metadata": {},
   "outputs": [
    {
     "name": "stdout",
     "output_type": "stream",
     "text": [
      "pi = DeterminedDigits(is_negative = False, digitstring = '0', exponent = 1)\n",
      "3\n",
      "3.1\n",
      "3.14\n",
      "3.141\n",
      "3.1415\n",
      "3.1415900000000003\n",
      "3.1415919999999997\n",
      "3.1415926\n",
      "3.14159265\n",
      "3.141592653\n",
      "Now, pi = DeterminedDigits(is_negative = False, digitstring = '03141592653', exponent = -9)\n"
     ]
    }
   ],
   "source": [
    "pi = DeterminedDigits(exponent = 1) # = zero tens\n",
    "print(f\"pi = {pi}\")\n",
    "\n",
    "def testfunction(x):\n",
    "    return (math.sin(x) < 0)\n",
    "\n",
    "for counter in range(10):\n",
    "    d = pi.nextdigit(testfunction)\n",
    "    pi.append(d)\n",
    "    print(pi.as_float())\n",
    "\n",
    "print(f\"Now, pi = {pi}\")"
   ]
  },
  {
   "cell_type": "markdown",
   "metadata": {},
   "source": [
    "What I like about DeterminedDigits is that in each step a new digit is found once and for all. This is a tidy convergence! Note that as_float() outputs its own digits, but they are not part of DeterminedDigits.\n",
    "\n",
    "We can independently resume and determine more digits:"
   ]
  },
  {
   "cell_type": "code",
   "execution_count": 313,
   "metadata": {},
   "outputs": [
    {
     "name": "stdout",
     "output_type": "stream",
     "text": [
      "3.1415926535\n",
      "3.1415926535799996\n",
      "3.141592653589\n",
      "3.1415926535897003\n",
      "3.14159265358979\n",
      "3.141592653589793\n",
      "Now, pi = DeterminedDigits(is_negative = False, digitstring = '03141592653589793', exponent = -15)\n",
      "\n",
      "Not surprisingly, math.pi is: 3.141592653589793\n"
     ]
    }
   ],
   "source": [
    "for counter in range(6):\n",
    "    d = pi.nextdigit(testfunction)\n",
    "    pi.append(d)\n",
    "    print(pi.as_float())\n",
    "\n",
    "print(f\"Now, pi = {pi}\")\n",
    "print(\"\\nNot surprisingly, math.pi is:\", math.pi)"
   ]
  },
  {
   "cell_type": "markdown",
   "metadata": {},
   "source": [
    "Likewise, we can determine digits in Euler's number _e_. This time we initially know that _e_ is between 0 and 1000:"
   ]
  },
  {
   "cell_type": "code",
   "execution_count": 314,
   "metadata": {},
   "outputs": [
    {
     "name": "stdout",
     "output_type": "stream",
     "text": [
      "e = DeterminedDigits(is_negative = False, digitstring = '0', exponent = 3)\n",
      "0\n",
      "0\n",
      "2\n",
      "2.7\n",
      "2.71\n",
      "2.718\n",
      "2.7182\n",
      "2.71828\n",
      "2.7182809999999997\n",
      "2.7182817999999997\n",
      "2.71828182\n",
      "2.7182818280000003\n",
      "2.7182818284\n",
      "2.71828182845\n",
      "2.718281828459\n",
      "2.7182818284590002\n",
      "2.71828182845904\n",
      "2.718281828459045\n",
      "Now, e = DeterminedDigits(is_negative = False, digitstring = '0002718281828459045', exponent = -15)\n",
      "\n",
      "Not surprisingly, math.e is: 2.718281828459045\n"
     ]
    }
   ],
   "source": [
    "e = DeterminedDigits(exponent = 3) # = zero thousands\n",
    "print(f\"e = {e}\")\n",
    "\n",
    "for counter in range(18):\n",
    "    d = e.nextdigit(lambda x: math.log(x)-1 > 0)\n",
    "    e.append(d)\n",
    "    print(e.as_float())\n",
    "    \n",
    "print(f\"Now, e = {e}\")\n",
    "print(\"\\nNot surprisingly, math.e is:\", math.e)"
   ]
  },
  {
   "cell_type": "markdown",
   "metadata": {},
   "source": [
    "Todo:\n",
    "- https://en.wikipedia.org/wiki/Interval_arithmetic"
   ]
  },
  {
   "cell_type": "code",
   "execution_count": null,
   "metadata": {},
   "outputs": [],
   "source": []
  },
  {
   "cell_type": "markdown",
   "metadata": {},
   "source": [
    "# Solo Numbers\n",
    "I define a set of numbers that I call \"solo numbers\". Solo numbers are a generalization of (the most) round numbers.\n",
    "\n",
    "## Round numbers, half-round numbers and solo numbers\n",
    "We celebrate anniversaries that are round (10, 20, 30,...) or half-round (15, 25, 25,...). Half-round numbers are numbers with 5 as the last digit. Round numbers have one or more zeroes at the end, so 110 and 150 are also round, but less round than 100 and 200.\n",
    "\n",
    "We can define a round number of k'th degree as $k$ non-zero digits followed by one or more zeroes. Second degree round numbers (e.g. 3600 or 270,000) are more round than 3. degree numbers (e.g. 9990 or 495,000) and so on. The most round are the first degree round numbers, e.g. 10, 20, 100, 8000, 50000. How can we extend the set of first degree round numbers below 10?\n",
    "\n",
    "We can define a generalization of the 1. degree round numbers that include numbers below 10 in the following \"logarithmic\" way: We include numbers 1-9 and we include 0.1-0.9, etc. A _solo number_ is a number that can be written as $m \\times 10^{n}$ where $m$ is a single digit between 1 and 9 and $n$ is an integer (...,-1, 0, 1,...). Examples are 0.0003, 0.9, 1, 5, 200, 7000. They are called \"solo\" numbers because there is one \"man\" who does all the work, all other digits are \"quiet\".\n",
    "\n",
    "Solo numbers are also defined with other bases than 10. A base-$b$ solo number is $m \\times b^{n}$, where $m$ is between 1 and $b-1$. Binary solo numbers have only $m=1$, so they are all $2^{n}$ (equal to 0.25, 0.5, 1, 2, 4, etc.).\n",
    "\n",
    "It may turn out that the name \"solo number\" is taken. Other ideas for a name is: One-man number, Rough number, Frontier number, Forward number, Spearhead number, Roundest number, Logscale number, Level number, Major number, First number, Heroic number.\n",
    "\n",
    "Solo numbers are ordered along the axis, and it is natural to define an _index_, with index _0_ assigned to 1 (since 1 is a solo number for every base):\n",
    "\n",
    "..., _-10_: 0.09, _-9_: 0.1,..., _-2_: 0.8, _-1_: 0.9, _0_: 1, _1_: 2, _2_: 3,..., _9_: 10, _10_: 20,..., _18_: 100, _19_: 200, _20_: 300,...\n",
    "\n",
    "\n",
    "\n",
    "\n",
    "\n",
    "\n"
   ]
  },
  {
   "cell_type": "markdown",
   "metadata": {},
   "source": [
    "## The SoloNumber Project\n",
    "This project aims at developing a numeric type in Python to represent Solo Numbers and the operations that can be done with them.\n",
    "\n",
    "The initial plan is to write a class DecimalSoloNumber(), that is derived from a float class, and that internally represents a solo number using three integers: $m$, $b$ and $n$ (in the decimal case $b=10$).\n",
    "\n",
    "For example, it could be made possible to do things like:"
   ]
  },
  {
   "cell_type": "code",
   "execution_count": 6,
   "metadata": {},
   "outputs": [
    {
     "ename": "NameError",
     "evalue": "name 'DecimalSoloNumber' is not defined",
     "output_type": "error",
     "traceback": [
      "\u001b[0;31m---------------------------------------------------------------------------\u001b[0m",
      "\u001b[0;31mNameError\u001b[0m                                 Traceback (most recent call last)",
      "\u001b[0;32m<ipython-input-6-03a279c28343>\u001b[0m in \u001b[0;36m<module>\u001b[0;34m\u001b[0m\n\u001b[0;32m----> 1\u001b[0;31m \u001b[0mx\u001b[0m \u001b[0;34m=\u001b[0m \u001b[0mDecimalSoloNumber\u001b[0m\u001b[0;34m(\u001b[0m\u001b[0;36m300\u001b[0m\u001b[0;34m)\u001b[0m\u001b[0;34m\u001b[0m\u001b[0;34m\u001b[0m\u001b[0m\n\u001b[0m\u001b[1;32m      2\u001b[0m \u001b[0my\u001b[0m \u001b[0;34m=\u001b[0m \u001b[0mDecimalSoloNumber\u001b[0m\u001b[0;34m(\u001b[0m\u001b[0;36m0.009\u001b[0m\u001b[0;34m)\u001b[0m\u001b[0;34m\u001b[0m\u001b[0;34m\u001b[0m\u001b[0m\n\u001b[1;32m      3\u001b[0m \u001b[0mx\u001b[0m\u001b[0;34m.\u001b[0m\u001b[0mm\u001b[0m \u001b[0;31m# is 3\u001b[0m\u001b[0;34m\u001b[0m\u001b[0;34m\u001b[0m\u001b[0m\n\u001b[1;32m      4\u001b[0m \u001b[0my\u001b[0m\u001b[0;34m.\u001b[0m\u001b[0mn\u001b[0m\u001b[0;34m(\u001b[0m\u001b[0;34m)\u001b[0m \u001b[0;31m# is -3\u001b[0m\u001b[0;34m\u001b[0m\u001b[0;34m\u001b[0m\u001b[0m\n\u001b[1;32m      5\u001b[0m \u001b[0mx\u001b[0m\u001b[0;34m.\u001b[0m\u001b[0mnextsolo\u001b[0m\u001b[0;34m(\u001b[0m\u001b[0;34m)\u001b[0m \u001b[0;31m# is 400\u001b[0m\u001b[0;34m\u001b[0m\u001b[0;34m\u001b[0m\u001b[0m\n",
      "\u001b[0;31mNameError\u001b[0m: name 'DecimalSoloNumber' is not defined"
     ]
    }
   ],
   "source": [
    "x = DecimalSoloNumber(300)\n",
    "y = DecimalSoloNumber(0.009)\n",
    "x.m # is 3\n",
    "y.n() # is -3\n",
    "x.nextsolo() # is 400\n",
    "x.soloindex # is 20\n",
    "y.soloindex # is -19\n",
    "z = DecimalSoloNumber(314)\n",
    "z.nearestsolo() # is 300"
   ]
  }
 ],
 "metadata": {
  "kernelspec": {
   "display_name": "Python 3",
   "language": "python",
   "name": "python3"
  },
  "language_info": {
   "codemirror_mode": {
    "name": "ipython",
    "version": 3
   },
   "file_extension": ".py",
   "mimetype": "text/x-python",
   "name": "python",
   "nbconvert_exporter": "python",
   "pygments_lexer": "ipython3",
   "version": "3.8.5"
  }
 },
 "nbformat": 4,
 "nbformat_minor": 4
}
