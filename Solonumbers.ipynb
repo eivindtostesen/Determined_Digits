{
 "cells": [
  {
   "cell_type": "markdown",
   "metadata": {},
   "source": [
    "# Solo Numbers\n",
    "I define a set of numbers that I call \"solo numbers\". Solo numbers are a generalization of (the most) round numbers.\n",
    "\n",
    "## Round numbers, half-round numbers and solo numbers\n",
    "We celebrate anniversaries that are round (10, 20, 30,...) or half-round (15, 25, 25,...). Half-round numbers are numbers with 5 as the last digit. Round numbers have one or more zeroes at the end, so 110 and 150 are also round, but less round than 100 and 200.\n",
    "\n",
    "We can define a round number of k'th degree as $k$ non-zero digits followed by one or more zeroes. Second degree round numbers (e.g. 3600 or 270,000) are more round than 3. degree numbers (e.g. 9990 or 495,000) and so on. The most round are the first degree round numbers, e.g. 10, 20, 100, 8000, 50000. How can we extend the set of first degree round numbers below 10?\n",
    "\n",
    "We can define a generalization of the 1. degree round numbers that include numbers below 10 in the following \"logarithmic\" way: We include numbers 1-9 and we include 0.1-0.9, etc. A _solo number_ is a number that can be written as $m \\times 10^{n}$ where $m$ is a single digit between 1 and 9 and $n$ is an integer (...,-1, 0, 1,...). Examples are 0.0003, 0.9, 1, 5, 200, 7000. They are called \"solo\" numbers because there is one \"man\" who does all the work, all other digits are \"quiet\".\n",
    "\n",
    "Solo numbers are also defined with other bases than 10. A base-$b$ solo number is $m \\times b^{n}$, where $m$ is between 1 and $b-1$. Binary solo numbers have only $m=1$, so they are all $2^{n}$ (equal to 0.25, 0.5, 1, 2, 4, etc.).\n",
    "\n",
    "It may turn out that the name \"solo number\" is taken. Other ideas for a name is: One-man number, Rough number, Frontier number, Forward number, Spearhead number, Roundest number, Logscale number, Level number, Major number, First number, Heroic number.\n",
    "\n",
    "Solo numbers are ordered along the axis, and it is natural to define an _index_, with index _0_ assigned to 1 (since 1 is a solo number for every base):\n",
    "\n",
    "..., _-10_: 0.09, _-9_: 0.1,..., _-2_: 0.8, _-1_: 0.9, _0_: 1, _1_: 2, _2_: 3,..., _9_: 10, _10_: 20,..., _18_: 100, _19_: 200, _20_: 300,...\n",
    "\n",
    "\n",
    "\n",
    "\n",
    "\n",
    "\n"
   ]
  },
  {
   "cell_type": "markdown",
   "metadata": {},
   "source": [
    "## The SoloNumber Project\n",
    "This project aims at developing a numeric type in Python to represent Solo Numbers and the operations that can be done with them.\n",
    "\n",
    "The initial plan is to write a class DecimalSoloNumber(), that is derived from a float class, and that internally represents a solo number using three integers: $m$, $b$ and $n$ (in the decimal case $b=10$).\n",
    "\n",
    "For example, it could be made possible to do things like:"
   ]
  },
  {
   "cell_type": "code",
   "execution_count": 6,
   "metadata": {},
   "outputs": [
    {
     "ename": "NameError",
     "evalue": "name 'DecimalSoloNumber' is not defined",
     "output_type": "error",
     "traceback": [
      "\u001b[0;31m---------------------------------------------------------------------------\u001b[0m",
      "\u001b[0;31mNameError\u001b[0m                                 Traceback (most recent call last)",
      "\u001b[0;32m<ipython-input-6-03a279c28343>\u001b[0m in \u001b[0;36m<module>\u001b[0;34m\u001b[0m\n\u001b[0;32m----> 1\u001b[0;31m \u001b[0mx\u001b[0m \u001b[0;34m=\u001b[0m \u001b[0mDecimalSoloNumber\u001b[0m\u001b[0;34m(\u001b[0m\u001b[0;36m300\u001b[0m\u001b[0;34m)\u001b[0m\u001b[0;34m\u001b[0m\u001b[0;34m\u001b[0m\u001b[0m\n\u001b[0m\u001b[1;32m      2\u001b[0m \u001b[0my\u001b[0m \u001b[0;34m=\u001b[0m \u001b[0mDecimalSoloNumber\u001b[0m\u001b[0;34m(\u001b[0m\u001b[0;36m0.009\u001b[0m\u001b[0;34m)\u001b[0m\u001b[0;34m\u001b[0m\u001b[0;34m\u001b[0m\u001b[0m\n\u001b[1;32m      3\u001b[0m \u001b[0mx\u001b[0m\u001b[0;34m.\u001b[0m\u001b[0mm\u001b[0m \u001b[0;31m# is 3\u001b[0m\u001b[0;34m\u001b[0m\u001b[0;34m\u001b[0m\u001b[0m\n\u001b[1;32m      4\u001b[0m \u001b[0my\u001b[0m\u001b[0;34m.\u001b[0m\u001b[0mn\u001b[0m\u001b[0;34m(\u001b[0m\u001b[0;34m)\u001b[0m \u001b[0;31m# is -3\u001b[0m\u001b[0;34m\u001b[0m\u001b[0;34m\u001b[0m\u001b[0m\n\u001b[1;32m      5\u001b[0m \u001b[0mx\u001b[0m\u001b[0;34m.\u001b[0m\u001b[0mnextsolo\u001b[0m\u001b[0;34m(\u001b[0m\u001b[0;34m)\u001b[0m \u001b[0;31m# is 400\u001b[0m\u001b[0;34m\u001b[0m\u001b[0;34m\u001b[0m\u001b[0m\n",
      "\u001b[0;31mNameError\u001b[0m: name 'DecimalSoloNumber' is not defined"
     ]
    }
   ],
   "source": [
    "x = DecimalSoloNumber(300)\n",
    "y = DecimalSoloNumber(0.009)\n",
    "x.m # is 3\n",
    "y.n() # is -3\n",
    "x.nextsolo() # is 400\n",
    "x.soloindex # is 20\n",
    "y.soloindex # is -19\n",
    "z = DecimalSoloNumber(314)\n",
    "z.nearestsolo() # is 300"
   ]
  },
  {
   "cell_type": "code",
   "execution_count": null,
   "metadata": {},
   "outputs": [],
   "source": []
  }
 ],
 "metadata": {
  "kernelspec": {
   "display_name": "Python 3",
   "language": "python",
   "name": "python3"
  },
  "language_info": {
   "codemirror_mode": {
    "name": "ipython",
    "version": 3
   },
   "file_extension": ".py",
   "mimetype": "text/x-python",
   "name": "python",
   "nbconvert_exporter": "python",
   "pygments_lexer": "ipython3",
   "version": "3.8.5"
  }
 },
 "nbformat": 4,
 "nbformat_minor": 4
}
